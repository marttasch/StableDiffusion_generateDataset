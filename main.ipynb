{
 "cells": [
  {
   "cell_type": "code",
   "execution_count": 2,
   "metadata": {},
   "outputs": [],
   "source": [
    "from IPython.display import display, HTML\n",
    "import ipywidgets as widgets\n",
    "from ipywidgets import Layout\n",
    "import json\n",
    "import sys\n",
    "import os\n",
    "import subprocess"
   ]
  },
  {
   "cell_type": "markdown",
   "metadata": {},
   "source": [
    "# Prompt Generation\n",
    "Edit the File ``prompt_config.json`` to change the prompt generation parameters. The file contains the following parameters:\n"
   ]
  },
  {
   "cell_type": "code",
   "execution_count": 3,
   "metadata": {},
   "outputs": [
    {
     "data": {
      "application/vnd.jupyter.widget-view+json": {
       "model_id": "1e2abb7d74624bfea098b4678820389e",
       "version_major": 2,
       "version_minor": 0
      },
      "text/plain": [
       "Text(value='prompt_config.json', description='Config file:')"
      ]
     },
     "metadata": {},
     "output_type": "display_data"
    },
    {
     "data": {
      "application/vnd.jupyter.widget-view+json": {
       "model_id": "2b5524648ae6454fb3415551a6ee285d",
       "version_major": 2,
       "version_minor": 0
      },
      "text/plain": [
       "HBox(children=(Button(description='Check config', style=ButtonStyle()), Button(description='Run genPrompt', st…"
      ]
     },
     "metadata": {},
     "output_type": "display_data"
    },
    {
     "data": {
      "application/vnd.jupyter.widget-view+json": {
       "model_id": "12cccd905eb04e9aab3f1ae9390f2322",
       "version_major": 2,
       "version_minor": 0
      },
      "text/plain": [
       "HBox(children=(HTML(value='Prompt count (Images per Class):'), HTML(value='0')))"
      ]
     },
     "metadata": {},
     "output_type": "display_data"
    },
    {
     "data": {
      "application/vnd.jupyter.widget-view+json": {
       "model_id": "b3b408916af146628295f3d2d22467e0",
       "version_major": 2,
       "version_minor": 0
      },
      "text/plain": [
       "HTML(value='<h2>Output</h2>')"
      ]
     },
     "metadata": {},
     "output_type": "display_data"
    },
    {
     "data": {
      "application/vnd.jupyter.widget-view+json": {
       "model_id": "161289bcc47540988957a303ce726331",
       "version_major": 2,
       "version_minor": 0
      },
      "text/plain": [
       "Output(layout=Layout(border_bottom='1px solid black', border_left='1px solid black', border_right='1px solid b…"
      ]
     },
     "metadata": {},
     "output_type": "display_data"
    }
   ],
   "source": [
    "import src.genPrompt as genPrompt\n",
    "\n",
    "def check_config(config_file):\n",
    "    buttonRunGenPrompt.layout.border = '1px solid black'\n",
    "    buttonCheckConfig.layout.border = '2px solid red'\n",
    "    output.clear_output()\n",
    "    with open(config_file) as f:\n",
    "        config = json.load(f)\n",
    "    with output:\n",
    "        print(json.dumps(config, indent=4))\n",
    "\n",
    "    # get count of prompts\n",
    "    prompts = genPrompt.generate_prompts_from_json(config)\n",
    "    promptCount = len(prompts)\n",
    "    textPromptCount.value = str(promptCount)\n",
    "\n",
    "def run_gen_prompt(config_file):\n",
    "    output.clear_output()\n",
    "    buttonRunGenPrompt.layout.border = '2px solid red'\n",
    "    buttonCheckConfig.layout.border = '1px solid black'\n",
    "    with output:\n",
    "        # run genPrompt\n",
    "        command = f\"python ./src/genPrompt.py {config_file}\"\n",
    "        print(f\"running: {command}\")\n",
    "        os.system(command)\n",
    "        \n",
    "\n",
    "textfield = widgets.Text(value='prompt_config.json', description='Config file:', disabled=False)\n",
    "\n",
    "# check config button\n",
    "buttonCheckConfig = widgets.Button(description=\"Check config\")\n",
    "buttonCheckConfig.on_click(lambda b: check_config(textfield.value))\n",
    "\n",
    "# run button\n",
    "buttonRunGenPrompt = widgets.Button(description=\"Run genPrompt\")\n",
    "buttonRunGenPrompt.on_click(lambda b: run_gen_prompt(textfield.value))\n",
    "\n",
    "# prompt count\n",
    "textPromptCountDesc = widgets.HTML(value=\"Prompt count (Images per Class):\")\n",
    "textPromptCount = widgets.HTML(value=\"0\")\n",
    "texPromptCountHbox = widgets.HBox([textPromptCountDesc, textPromptCount])\n",
    "\n",
    "# output\n",
    "heading = widgets.HTML(value=\"<h2>Output</h2>\")\n",
    "output = widgets.Output()\n",
    "output.layout = {'border': '1px solid black'}\n",
    "\n",
    "# run genPrompt container\n",
    "\n",
    "buttonHbox = widgets.HBox([buttonCheckConfig, buttonRunGenPrompt])\n",
    "display(textfield, buttonHbox, texPromptCountHbox, heading ,output)"
   ]
  },
  {
   "cell_type": "markdown",
   "metadata": {},
   "source": [
    "# Dataset Generation"
   ]
  },
  {
   "cell_type": "code",
   "execution_count": 4,
   "metadata": {},
   "outputs": [
    {
     "data": {
      "application/vnd.jupyter.widget-view+json": {
       "model_id": "02c51ad6c04e4de4b345e247d20dd7c4",
       "version_major": 2,
       "version_minor": 0
      },
      "text/plain": [
       "HBox(children=(VBox(children=(Text(value='urinal_Dataset_v1', description='Dataset Name:', layout=Layout(width…"
      ]
     },
     "metadata": {},
     "output_type": "display_data"
    },
    {
     "data": {
      "application/vnd.jupyter.widget-view+json": {
       "model_id": "7c0574c5680b426d9b75973f8b715bdd",
       "version_major": 2,
       "version_minor": 0
      },
      "text/plain": [
       "VBox(children=(HTML(value='<h2>Output</h2>'), Output(layout=Layout(border_bottom='1px solid black', border_lef…"
      ]
     },
     "metadata": {},
     "output_type": "display_data"
    }
   ],
   "source": [
    "from IPython.display import display, HTML\n",
    "import ipywidgets as widgets\n",
    "\n",
    "checkboxStates = {\n",
    "    'Generate Dataset': False,\n",
    "    'Segmentation': False,\n",
    "    'Dataset': False,\n",
    "    'CNN Training': False\n",
    "}\n",
    "def on_run_button_clicked(b):\n",
    "    # clear print output\n",
    "    # print the selected values\n",
    "    output.clear_output()\n",
    "    with output:\n",
    "        print(\"Selected values:\")\n",
    "        print(f\"  Dataset Name: {datasetName.value}\")\n",
    "        print(f\"  Prompt Config: {promptConfig.value}\")\n",
    "        print(f\"  {checkboxStates}\")\n",
    "\n",
    "        # get checkbox values\n",
    "        checkboxArguments = \"\"\n",
    "        for key, value in checkboxStates.items():\n",
    "            if key == 'Generate Dataset':\n",
    "                if value:\n",
    "                    checkboxArguments += \"--generateDataset True \"\n",
    "                else:\n",
    "                    checkboxArguments += \"--generateDataset False \"\n",
    "            elif key == 'Segmentation':\n",
    "                if value:\n",
    "                    checkboxArguments += \"--segmentateImages True \"\n",
    "                else:\n",
    "                    checkboxArguments += \"--segmentateImages False \"\n",
    "            elif key == 'prepare Trainings Dataset':\n",
    "                if value:\n",
    "                    checkboxArguments += \"--createTrainingDataset True \"\n",
    "                else:\n",
    "                    checkboxArguments += \"--createTrainingDataset False \"\n",
    "        # run script\n",
    "        command = f\"start cmd /k python generateDataset.py --datasetName {datasetName.value} --promptConfig {promptConfig.value} {checkboxArguments}\"\n",
    "        print(f\"\\nExecuting command: {command}\")\n",
    "        os.system(command)\n",
    "\n",
    "def on_checkbox_change(change):\n",
    "    checkboxStates[change.owner.description] = change.new\n",
    "\n",
    "# Create a text widget for datasetName\n",
    "datasetName = widgets.Text(\n",
    "    value='urinal_Dataset_v1',\n",
    "    description='Dataset Name:',\n",
    "    disabled=False,\n",
    "    layout=Layout(width='auto')  # Set the width to 'auto'\n",
    ")\n",
    "# Create a text widget for promptConfig\n",
    "promptConfig = widgets.Text(\n",
    "    value='prompt_config.json',\n",
    "    description='Prompt Config:',\n",
    "    disabled=False,\n",
    "    layout=Layout(width='auto')  # Set the width to 'auto'\n",
    ")\n",
    "# combine the two text widgets into a VBox\n",
    "textWidgets = widgets.VBox([datasetName, promptConfig])\n",
    "\n",
    "# select multiple values\n",
    "checkboxGenerateDataset = widgets.Checkbox(value=False, description='Generate Dataset')\n",
    "checkboxGenerateDataset.observe(on_checkbox_change, names='value')\n",
    "checkboxSegmentation = widgets.Checkbox(value=False, description='Segmentation')\n",
    "checkboxSegmentation.observe(on_checkbox_change, names='value')\n",
    "checkboxDateset = widgets.Checkbox(value=False, description='prepare Trainings Dataset')\n",
    "checkboxDateset.observe(on_checkbox_change, names='value')\n",
    "\n",
    "checkboxCNNTraining = widgets.Checkbox(value=False, description='CNN Training', disabled=True)\n",
    "checkboxCNNTraining.observe(on_checkbox_change, names='value')\n",
    "\n",
    "checkboxes = widgets.VBox([checkboxGenerateDataset, checkboxSegmentation, checkboxDateset, checkboxCNNTraining])\n",
    "\n",
    "# Create a button widget to run code\n",
    "button = widgets.Button(description=\"Run\", button_style='success')\n",
    "button.on_click(on_run_button_clicked)\n",
    "\n",
    "# combine the checkboxes and button into a HBox\n",
    "hbox = widgets.HBox([textWidgets, checkboxes, button])\n",
    "\n",
    "\n",
    "# create output widget\n",
    "outputTitle = widgets.HTML(value=\"<h2>Output</h2>\")\n",
    "output = widgets.Output()\n",
    "output.layout = {\n",
    "    'border': '1px solid black',\n",
    "    'overflow_y': 'auto',  # Add a vertical scrollbar in case of overflow\n",
    "}\n",
    "outputVbox = widgets.VBox([outputTitle, output])\n",
    "\n",
    "display(hbox, outputVbox)\n"
   ]
  },
  {
   "cell_type": "markdown",
   "metadata": {},
   "source": [
    "# CNN Model Training"
   ]
  },
  {
   "cell_type": "code",
   "execution_count": 5,
   "metadata": {},
   "outputs": [
    {
     "data": {
      "application/vnd.jupyter.widget-view+json": {
       "model_id": "8966752f0d61492b98a04ad7bb1e410f",
       "version_major": 2,
       "version_minor": 0
      },
      "text/plain": [
       "Dropdown(description='Dataset', options=('urinal_Dataset_v12', 'urinal_Dataset_v12_seg', 'urinal_Dataset_v13',…"
      ]
     },
     "metadata": {},
     "output_type": "display_data"
    },
    {
     "data": {
      "application/vnd.jupyter.widget-view+json": {
       "model_id": "6334f2602afd4103a7a8ec7f0ae6deb9",
       "version_major": 2,
       "version_minor": 0
      },
      "text/plain": [
       "Dropdown(description='Model', options=('inception_v3', 'resnet50'), value='inception_v3')"
      ]
     },
     "metadata": {},
     "output_type": "display_data"
    },
    {
     "data": {
      "application/vnd.jupyter.widget-view+json": {
       "model_id": "d7b328364e76417faf271fb98643b217",
       "version_major": 2,
       "version_minor": 0
      },
      "text/plain": [
       "Dropdown(description='Model Selection', options=('fine-tuning', 'feature-extraction'), value='fine-tuning')"
      ]
     },
     "metadata": {},
     "output_type": "display_data"
    },
    {
     "data": {
      "application/vnd.jupyter.widget-view+json": {
       "model_id": "d44c965b4d0146daaedc621a7584109e",
       "version_major": 2,
       "version_minor": 0
      },
      "text/plain": [
       "Button(button_style='success', description='Run', style=ButtonStyle())"
      ]
     },
     "metadata": {},
     "output_type": "display_data"
    },
    {
     "data": {
      "application/vnd.jupyter.widget-view+json": {
       "model_id": "1a57e1e9f4a24ea399100b13d724d7ba",
       "version_major": 2,
       "version_minor": 0
      },
      "text/plain": [
       "HTML(value='<h2>Output</h2>')"
      ]
     },
     "metadata": {},
     "output_type": "display_data"
    },
    {
     "data": {
      "application/vnd.jupyter.widget-view+json": {
       "model_id": "3ce581854c7840b39962f8efbabf99e1",
       "version_major": 2,
       "version_minor": 0
      },
      "text/plain": [
       "Output(layout=Layout(border_bottom='1px solid black', border_left='1px solid black', border_right='1px solid b…"
      ]
     },
     "metadata": {},
     "output_type": "display_data"
    }
   ],
   "source": [
    "import ipywidgets as widgets\n",
    "from IPython.display import display\n",
    "import subprocess\n",
    "\n",
    "def get_datasets_from_folder(folder):\n",
    "    return [name for name in os.listdir(folder) if os.path.isdir(os.path.join(folder, name))]\n",
    "\n",
    "def on_run_button_clicked(b):\n",
    "\n",
    "    output.clear_output()\n",
    "    \n",
    "    # Get widget values\n",
    "    dataset = dataset_widget.value\n",
    "    model = model_widget.value\n",
    "    model_selection = model_selection_widget.value\n",
    "    if model_selection == 'fine-tuning':\n",
    "        model_selection = '1'\n",
    "    else:\n",
    "        model_selection = '2'\n",
    "\n",
    "    # run script\n",
    "    with output:\n",
    "        command = f\"start cmd /k python ./src/trainCNN/trainCNN.py --dataset {dataset} --model {model} --modelSelection {model_selection}\"\n",
    "        print(f\"\\nExecuting command: {command}\")\n",
    "        os.system(command)\n",
    "\n",
    "# Create widgets\n",
    "#dataset_widget = widgets.Text(description='Dataset', value='urinal_v2')\n",
    "dataset_widget = widgets.Dropdown(description='Dataset', options=get_datasets_from_folder('./datasets'))\n",
    "model_widget = widgets.Dropdown(description='Model', options=['inception_v3', 'resnet50'])\n",
    "model_selection_widget = widgets.Dropdown(description='Model Selection', options=['fine-tuning', 'feature-extraction'])\n",
    "\n",
    "run_button = widgets.Button(description=\"Run\", button_style='success')\n",
    "\n",
    "outputTitle = widgets.HTML(value=\"<h2>Output</h2>\")\n",
    "output = widgets.Output()\n",
    "output.layout = {\n",
    "    'border': '1px solid black',\n",
    "    'overflow_y': 'auto',  # Add a vertical scrollbar in case of overflow\n",
    "}\n",
    "\n",
    "# Display widgets\n",
    "display(dataset_widget, model_widget, model_selection_widget, run_button, outputTitle, output)\n",
    "\n",
    "run_button.on_click(on_run_button_clicked)\n",
    "\n"
   ]
  },
  {
   "cell_type": "markdown",
   "metadata": {},
   "source": [
    "# Evaluation"
   ]
  },
  {
   "cell_type": "code",
   "execution_count": 56,
   "metadata": {},
   "outputs": [
    {
     "data": {
      "application/vnd.jupyter.widget-view+json": {
       "model_id": "0fc44e8c41ee4d4f8e23a130b8a59378",
       "version_major": 2,
       "version_minor": 0
      },
      "text/plain": [
       "Dropdown(description='Trainings', options=('2024-05-03_11-24-09', '2024-05-04_14-43-26_urinal_v2_resnet50_fav'…"
      ]
     },
     "metadata": {},
     "output_type": "display_data"
    },
    {
     "data": {
      "application/vnd.jupyter.widget-view+json": {
       "model_id": "6bf3f70d01b9442d8e23b22ffd8de665",
       "version_major": 2,
       "version_minor": 0
      },
      "text/plain": [
       "Button(button_style='success', description='Run', style=ButtonStyle())"
      ]
     },
     "metadata": {},
     "output_type": "display_data"
    },
    {
     "data": {
      "application/vnd.jupyter.widget-view+json": {
       "model_id": "4505821bbe684c28b51caa948c96141b",
       "version_major": 2,
       "version_minor": 0
      },
      "text/plain": [
       "HTML(value='<h2>Output</h2>')"
      ]
     },
     "metadata": {},
     "output_type": "display_data"
    },
    {
     "data": {
      "application/vnd.jupyter.widget-view+json": {
       "model_id": "110f44bfdecb4d6eaf1c9ed45078ffe3",
       "version_major": 2,
       "version_minor": 0
      },
      "text/plain": [
       "Output(layout=Layout(border_bottom='1px solid black', border_left='1px solid black', border_right='1px solid b…"
      ]
     },
     "metadata": {},
     "output_type": "display_data"
    }
   ],
   "source": [
    "# this script is for validating the trained CNN model\n",
    "\n",
    "import ipywidgets as widgets\n",
    "from IPython.display import display\n",
    "import subprocess\n",
    "\n",
    "def get_datasets_from_folder(folder):\n",
    "    return [name for name in os.listdir(folder) if os.path.isdir(os.path.join(folder, name))]\n",
    "\n",
    "def on_run_button_clicked(b):\n",
    "    output.clear_output()\n",
    "    \n",
    "    # Get widget values\n",
    "    trainingFolder = trainingFolderWidget.value\n",
    "    modelPath = os.path.join('./trainingOutput', trainingFolder, 'best_model.pth')\n",
    "\n",
    "    # run script\n",
    "    with output:\n",
    "        command = f\"start cmd /k python ./src/trainCNN/validateCNN.py --model_path {modelPath}\"\n",
    "        print(f\"\\nExecuting command: {command}\")\n",
    "        os.system(command)\n",
    "\n",
    "# Create widgets\n",
    "#dataset_widget = widgets.Text(description='Dataset', value='urinal_v2')\n",
    "trainingFolderWidget = widgets.Dropdown(description='Trainings', options=get_datasets_from_folder('./trainingOutput'))\n",
    "\n",
    "run_button = widgets.Button(description=\"Run\", button_style='success')\n",
    "\n",
    "outputTitle = widgets.HTML(value=\"<h2>Output</h2>\")\n",
    "output = widgets.Output()\n",
    "output.layout = {\n",
    "    'border': '1px solid black',\n",
    "    'overflow_y': 'auto',  # Add a vertical scrollbar in case of overflow\n",
    "}\n",
    "\n",
    "# Display widgets\n",
    "display(trainingFolderWidget, run_button, outputTitle, output)\n",
    "\n",
    "run_button.on_click(on_run_button_clicked)\n",
    "\n"
   ]
  },
  {
   "cell_type": "markdown",
   "metadata": {},
   "source": [
    "# Plotting\n"
   ]
  },
  {
   "cell_type": "code",
   "execution_count": 1,
   "metadata": {},
   "outputs": [
    {
     "data": {
      "application/vnd.jupyter.widget-view+json": {
       "model_id": "f06422e2ad4340bcb54d9c3c5fa3b388",
       "version_major": 2,
       "version_minor": 0
      },
      "text/plain": [
       "Dropdown(description='Training:', options=('2024-06-07_23-59-29_urinal_Dataset_v15_seg_inception_v3_FT_finishe…"
      ]
     },
     "metadata": {},
     "output_type": "display_data"
    },
    {
     "data": {
      "application/vnd.jupyter.widget-view+json": {
       "model_id": "b6732a93baea43aa9c257d650373488f",
       "version_major": 2,
       "version_minor": 0
      },
      "text/plain": [
       "Button(button_style='success', description='Recreate Metrics', style=ButtonStyle())"
      ]
     },
     "metadata": {},
     "output_type": "display_data"
    },
    {
     "data": {
      "application/vnd.jupyter.widget-view+json": {
       "model_id": "9d23e0f7c5eb4566ad2c711192c91f05",
       "version_major": 2,
       "version_minor": 0
      },
      "text/plain": [
       "Output(layout=Layout(border_bottom='1px solid black', border_left='1px solid black', border_right='1px solid b…"
      ]
     },
     "metadata": {},
     "output_type": "display_data"
    },
    {
     "name": "stdout",
     "output_type": "stream",
     "text": [
      "Recreating metrics\n",
      "init writer\n",
      "\n",
      "Plots and images saved in ./trainingOutput/2024-06-07_23-59-29_urinal_Dataset_v15_seg_inception_v3_FT_finished_EP-19_ACC-0.9130_LOSS-0.2203\\tensorboard\\..\\images-plots\\plots and ./trainingOutput/2024-06-07_23-59-29_urinal_Dataset_v15_seg_inception_v3_FT_finished_EP-19_ACC-0.9130_LOSS-0.2203\\tensorboard\\..\\images-plots\\images\n"
     ]
    },
    {
     "name": "stdout",
     "output_type": "stream",
     "text": [
      "Recreating metrics\n",
      "init writer\n",
      "\n",
      "Plots and images saved in ./trainingOutput/2024-06-07_23-10-28_urinal_Dataset_v15_inception_v3_FT_finished_EP-26_ACC-0.9420_LOSS-0.1546\\tensorboard\\..\\images-plots\\plots and ./trainingOutput/2024-06-07_23-10-28_urinal_Dataset_v15_inception_v3_FT_finished_EP-26_ACC-0.9420_LOSS-0.1546\\tensorboard\\..\\images-plots\\images\n"
     ]
    },
    {
     "name": "stdout",
     "output_type": "stream",
     "text": [
      "Recreating metrics\n",
      "init writer\n",
      "\n",
      "Plots and images saved in ./trainingOutput/2024-06-07_21-40-04_urinal_Dataset_v14_seg_inception_v3_FT_finished_EP-42_ACC-0.9594_LOSS-0.0916\\tensorboard\\..\\images-plots\\plots and ./trainingOutput/2024-06-07_21-40-04_urinal_Dataset_v14_seg_inception_v3_FT_finished_EP-42_ACC-0.9594_LOSS-0.0916\\tensorboard\\..\\images-plots\\images\n"
     ]
    },
    {
     "name": "stdout",
     "output_type": "stream",
     "text": [
      "Recreating metrics\n",
      "init writer\n",
      "\n",
      "Plots and images saved in ./trainingOutput/2024-06-07_20-45-47_urinal_Dataset_v14_inception_v3_FT_finished_EP-20_ACC-0.9739_LOSS-0.0670\\tensorboard\\..\\images-plots\\plots and ./trainingOutput/2024-06-07_20-45-47_urinal_Dataset_v14_inception_v3_FT_finished_EP-20_ACC-0.9739_LOSS-0.0670\\tensorboard\\..\\images-plots\\images\n"
     ]
    },
    {
     "name": "stdout",
     "output_type": "stream",
     "text": [
      "Recreating metrics\n",
      "init writer\n",
      "\n",
      "Plots and images saved in ./trainingOutput/2024-06-07_19-07-24_urinal_Dataset_v13_seg_inception_v3_FT_finished_EP-26_ACC-0.9072_LOSS-0.2717\\tensorboard\\..\\images-plots\\plots and ./trainingOutput/2024-06-07_19-07-24_urinal_Dataset_v13_seg_inception_v3_FT_finished_EP-26_ACC-0.9072_LOSS-0.2717\\tensorboard\\..\\images-plots\\images\n"
     ]
    },
    {
     "name": "stdout",
     "output_type": "stream",
     "text": [
      "Recreating metrics\n",
      "init writer\n",
      "\n",
      "Plots and images saved in ./trainingOutput/2024-06-07_15-58-18_urinal_Dataset_v13_inception_v3_FT_finished_EP-32_ACC-0.9130_LOSS-0.1810\\tensorboard\\..\\images-plots\\plots and ./trainingOutput/2024-06-07_15-58-18_urinal_Dataset_v13_inception_v3_FT_finished_EP-32_ACC-0.9130_LOSS-0.1810\\tensorboard\\..\\images-plots\\images\n"
     ]
    },
    {
     "name": "stdout",
     "output_type": "stream",
     "text": [
      "Recreating metrics\n",
      "init writer\n",
      "\n",
      "Plots and images saved in ./trainingOutput/2024-06-07_14-54-02_urinal_Dataset_v12_seg_inception_v3_FT_finished_EP-22_ACC-0.9594_LOSS-0.0873\\tensorboard\\..\\images-plots\\plots and ./trainingOutput/2024-06-07_14-54-02_urinal_Dataset_v12_seg_inception_v3_FT_finished_EP-22_ACC-0.9594_LOSS-0.0873\\tensorboard\\..\\images-plots\\images\n"
     ]
    },
    {
     "name": "stdout",
     "output_type": "stream",
     "text": [
      "Recreating metrics\n",
      "init writer\n",
      "\n",
      "Plots and images saved in ./trainingOutput/2024-06-07_13-34-17_urinal_Dataset_v12_inception_v3_FT_finished_EP-18_ACC-0.9478_LOSS-0.1425\\tensorboard\\..\\images-plots\\plots and ./trainingOutput/2024-06-07_13-34-17_urinal_Dataset_v12_inception_v3_FT_finished_EP-18_ACC-0.9478_LOSS-0.1425\\tensorboard\\..\\images-plots\\images\n"
     ]
    }
   ],
   "source": [
    "# this script is used to display the accuracy plot of a selected dataset\n",
    "import ipywidgets as widgets\n",
    "from IPython.display import display, HTML, Image\n",
    "import os\n",
    "\n",
    "\n",
    "global dataset_path\n",
    "\n",
    "# dropdown on change function\n",
    "def on_change(change):\n",
    "    if change['type'] == 'change' and change['name'] == 'value':\n",
    "        with output:\n",
    "            output.clear_output()\n",
    "            print(f\"Selected dataset: {change['new']}\")\n",
    "\n",
    "        # display the selected dataset\n",
    "        output_accuracy_plot(change['new'])\n",
    "\n",
    "def output_accuracy_plot(dataset):\n",
    "    global dataset_path\n",
    "    output.clear_output()\n",
    "    dataset_path = f\"./trainingOutput/{dataset}\"\n",
    "    # display accuracy plot\n",
    "    accuracy_plot = f\"{dataset_path}/images-plots/plots/Accuracy_plot.png\"\n",
    "    # check if file exists, use output widget to display image\n",
    "    if os.path.isfile(accuracy_plot):\n",
    "        with output:\n",
    "            display(Image(filename=accuracy_plot))\n",
    "    else:\n",
    "        with output:\n",
    "            print(f\"Accuracy plot not found: {accuracy_plot}\")\n",
    "\n",
    "def on_recreate_metrics_button_clicked(b):\n",
    "    global dataset_path\n",
    "    print(\"Recreating metrics\")\n",
    "    import src.trainCNN.tensorboardHandler as tbh\n",
    "    tb = tbh.TensorBoard(os.path.join(dataset_path, 'tensorboard'))\n",
    "    tb.plot_tensorboard_data()\n",
    "    output_accuracy_plot(dropdown.value)\n",
    "\n",
    "# get all folder in training folder and use them as options\n",
    "def get_datasets_from_folder(folder):\n",
    "    return [name for name in os.listdir(folder) if os.path.isdir(os.path.join(folder, name))][::-1]\n",
    "\n",
    "# ---- Widgets ----\n",
    "# Create a dropdown widget\n",
    "dropdown = widgets.Dropdown(\n",
    "    options=get_datasets_from_folder('./trainingOutput'),\n",
    "    description='Training:',\n",
    "    disabled=False,\n",
    ")\n",
    "dropdown.observe(on_change)\n",
    "\n",
    "# Create a button widget to run code\n",
    "button = widgets.Button(description=\"Run\", button_style='success')\n",
    "\n",
    "btn_recreateMetrics = widgets.Button(description=\"Recreate Metrics\", button_style='success')\n",
    "btn_recreateMetrics.on_click(on_recreate_metrics_button_clicked)\n",
    "\n",
    "# Create an output widget\n",
    "output = widgets.Output()\n",
    "output.layout = {\n",
    "    'border': '1px solid black',\n",
    "    'overflow_y': 'auto',  # Add a vertical scrollbar in case of overflow\n",
    "}\n",
    "output_accuracy_plot(dropdown.value)\n",
    "\n",
    "\n",
    "# display widgets\n",
    "display(dropdown, btn_recreateMetrics, output)"
   ]
  },
  {
   "cell_type": "markdown",
   "metadata": {},
   "source": [
    "# Testing"
   ]
  },
  {
   "cell_type": "code",
   "execution_count": 38,
   "metadata": {},
   "outputs": [
    {
     "name": "stdout",
     "output_type": "stream",
     "text": [
      "init writer\n",
      "dict_keys(['Learning Rate', 'Accuracy_Test', 'Accuracy_Train', 'Loss_Test', 'Loss_Train', 'Precision_Test', 'Precision_Train', 'Recall_Test', 'Recall_Train'])\n"
     ]
    },
    {
     "data": {
      "image/png": "[encoded data removed]",
      "text/plain": [
       "<Figure size 1200x600 with 1 Axes>"
      ]
     },
     "metadata": {},
     "output_type": "display_data"
    }
   ],
   "source": [
    "import src.trainCNN.tensorboardHandler as tbh\n",
    "\n",
    "tbRoot = r\"D:\\code\\Bachelorarbeit\\xx_code_BA\\trainingOutput\\2024-06-07_21-40-04_urinal_Dataset_v14_seg_inception_v3_FT_finished_EP-42_ACC-0.9594_LOSS-0.0916\"\n",
    "tbh = tbh.TensorBoard(tbRoot)\n",
    "\n",
    "metrics = tbh.extract_tensorboard_metrics()\n",
    "\n",
    "print(metrics.keys())\n",
    "\n",
    "accuracy_train = metrics['Accuracy_Train']\n",
    "accuracyTest = metrics['Accuracy_Test']\n",
    "precision_train = metrics['Precision_Train']\n",
    "precision_test = metrics['Precision_Test']\n",
    "recall_train = metrics['Recall_Train']\n",
    "recall_test = metrics['Recall_Test']\n",
    "\n",
    "#print(accuracy_train)\n",
    "# combine all metrics into a single plot, use the same x-axis, different color for each metric, but same color for train and test\n",
    "import matplotlib.pyplot as plt\n",
    "\n",
    "plt.figure(figsize=(12, 6))\n",
    "plt.plot(recall_train['Step'], recall_train['Value'], label='Recall Train', color='red')\n",
    "plt.plot(recall_test['Step'], recall_test['Value'], label='Recall Test', color='red', linestyle='dashed')\n",
    "plt.plot(precision_train['Step'], precision_train['Value'], label='Precision Train', color='green')\n",
    "plt.plot(precision_test['Step'], precision_test['Value'], label='Precision Test', color='green', linestyle='dashed')\n",
    "plt.plot(accuracy_train['Step'], accuracy_train['Value'], label='Accuracy Train', color='blue')\n",
    "plt.plot(accuracyTest['Step'], accuracyTest['Value'], label='Accuracy Test', color='blue', linestyle='dashed')\n",
    "\n",
    "plt.xlabel('Training Step')\n",
    "plt.ylabel('Value')\n",
    "plt.title('Metrics over Training Steps')\n",
    "plt.grid()\n",
    "\n",
    "plt.legend()\n",
    "\n",
    "plt.show()\n"
   ]
  },
  {
   "cell_type": "code",
   "execution_count": 54,
   "metadata": {},
   "outputs": [
    {
     "data": {
      "image/png": "[encoded data removed]",
      "text/plain": [
       "<Figure size 1200x600 with 1 Axes>"
      ]
     },
     "metadata": {},
     "output_type": "display_data"
    },
    {
     "data": {
      "text/plain": [
       "<Figure size 640x480 with 0 Axes>"
      ]
     },
     "metadata": {},
     "output_type": "display_data"
    },
    {
     "data": {
      "image/png": "[encoded data removed]",
      "text/plain": [
       "<Figure size 1200x600 with 1 Axes>"
      ]
     },
     "metadata": {},
     "output_type": "display_data"
    },
    {
     "data": {
      "text/plain": [
       "<Figure size 640x480 with 0 Axes>"
      ]
     },
     "metadata": {},
     "output_type": "display_data"
    }
   ],
   "source": [
    "import matplotlib.pyplot as plt\n",
    "import numpy as np\n",
    "\n",
    "# Daten aus der Evaluation\n",
    "datasets = [\"v12\", \"v12_seg\", \"v13\", \"v13_seg\", \"v14\", \"v14_seg\", \"v15\", \"v15_seg\"]\n",
    "test_accuracy = [0.9304, 0.9507, 0.9217, 0.8957, 0.9710, 0.9623, 0.9362, 0.9130]\n",
    "test_recall = [0.9304, 0.9507, 0.9217, 0.8957, 0.9710, 0.9623, 0.9362, 0.9130]\n",
    "test_precision = [0.9300, 0.9520, 0.9293, 0.8961, 0.9711, 0.9624, 0.9363, 0.9127]\n",
    "val_accuracy = [0.9310, 0.9540, 0.9080, 0.9080, 0.9713, 0.9770, 0.9195, 0.9253]\n",
    "val_recall = [0.9310, 0.9540, 0.9080, 0.9080, 0.9713, 0.9770, 0.9195, 0.9253]\n",
    "val_precision = [0.9305, 0.9538, 0.9091, 0.9091, 0.9735, 0.9770, 0.9352, 0.9317]\n",
    "test_loss = [0.1903, 0.1326, 0.1908, 0.2825, 0.0687, 0.0983, 0.1752, 0.2222]\n",
    "val_loss = [0.1272, 0.0973, 0.1964, 0.2579, 0.0956, 0.0556, 0.2161, 0.1801]\n",
    "\n",
    "# Farben für die Balken\n",
    "colors = {\n",
    "    'soft_blue': '#4c72b0',\n",
    "    'soft_orange': '#dd8452',\n",
    "    'soft_green': '#55a868',\n",
    "    'soft_red': '#c44e52',\n",
    "    'soft_purple': '#8172b3',\n",
    "    'soft_brown': '#937860',\n",
    "    'soft_pink': '#da8bc3',\n",
    "    'soft_gray': '#8c8c8c',\n",
    "    'soft_yellow': '#ccb974',\n",
    "    'soft_cyan': '#64b5cd'\n",
    "}\n",
    "\n",
    "# Sortieren nach Validation Accuracy\n",
    "sorted_indices = np.argsort(val_accuracy)[::-1]  # Absteigend sortieren\n",
    "sorted_datasets = [datasets[i] for i in sorted_indices]\n",
    "sorted_test_accuracy = [test_accuracy[i] for i in sorted_indices]\n",
    "sorted_val_accuracy = [val_accuracy[i] for i in sorted_indices]\n",
    "sorted_test_recall = [test_recall[i] for i in sorted_indices]\n",
    "sorted_val_recall = [val_recall[i] for i in sorted_indices]\n",
    "sorted_test_precision = [test_precision[i] for i in sorted_indices]\n",
    "sorted_val_precision = [val_precision[i] for i in sorted_indices]\n",
    "\n",
    "# Sortieren nach Validation Loss\n",
    "sorted_indices = np.argsort(val_loss)  # Aufsteigend sortieren\n",
    "sorted_datasets = [datasets[i] for i in sorted_indices]\n",
    "sorted_test_loss = [test_loss[i] for i in sorted_indices]\n",
    "sorted_val_loss = [val_loss[i] for i in sorted_indices]\n",
    "\n",
    "# prepare plot\n",
    "x = np.arange(len(datasets))/2  # Label-Standorte\n",
    "width = 0.1  # Breite der Balken\n",
    "\n",
    "# Plot für Accuracy\n",
    "fig, ax = plt.subplots(figsize=(12, 6))\n",
    "rects1 = ax.bar(x - width/2, sorted_test_accuracy, width, label='Test Accuracy', color=colors['soft_blue'])\n",
    "rects2 = ax.bar(x + width/2, sorted_val_accuracy, width, label='Validation Accuracy', color=colors['soft_orange'])\n",
    "\n",
    "# Labels und Titel für Accuracy\n",
    "ax.set_xlabel('Datasets')\n",
    "ax.set_ylabel('Accuracy')\n",
    "ax.set_title('Accuracy by Dataset (Sorted by Validation Accuracy)')\n",
    "ax.set_xticks(x)\n",
    "ax.set_xticklabels(sorted_datasets)\n",
    "ax.set_ylim(0.85, 1)\n",
    "ax.legend()\n",
    "ax.grid(True)\n",
    "fig.tight_layout()\n",
    "plt.show()\n",
    "#plt.savefig('models_accuracy_sorted.pdf')\n",
    "\n",
    "# Plot für Loss\n",
    "fig, ax = plt.subplots(figsize=(12, 6))\n",
    "rects3 = ax.bar(x - width/2, sorted_test_loss, width, label='Test Loss', color=colors['soft_green'])\n",
    "rects4 = ax.bar(x + width/2, sorted_val_loss, width, label='Validation Loss', color=colors['soft_red'])\n",
    "\n",
    "# Labels und Titel für Loss\n",
    "ax.set_xlabel('Datasets')\n",
    "ax.set_ylabel('Loss')\n",
    "ax.set_title('Loss by Dataset (Sorted by Validation Loss)')\n",
    "ax.set_xticks(x)\n",
    "ax.set_xticklabels(sorted_datasets)\n",
    "ax.legend()\n",
    "ax.grid(True)\n",
    "\n",
    "fig.tight_layout()\n",
    "plt.show()\n",
    "#plt.savefig('models_loss_sorted.pdf')\n"
   ]
  },
  {
   "cell_type": "code",
   "execution_count": 35,
   "metadata": {},
   "outputs": [
    {
     "data": {
      "application/vnd.jupyter.widget-view+json": {
       "model_id": "4d813ea0235544089fbc6d0e75a9e00b",
       "version_major": 2,
       "version_minor": 0
      },
      "text/plain": [
       "FileUpload(value=(), description='Select Image')"
      ]
     },
     "metadata": {},
     "output_type": "display_data"
    },
    {
     "data": {
      "application/vnd.jupyter.widget-view+json": {
       "model_id": "48a90109cb00498fb8ffcdc2da7529b7",
       "version_major": 2,
       "version_minor": 0
      },
      "text/plain": [
       "Dropdown(description='Trainings', options=('2024-05-03_11-24-09', '2024-05-04_14-43-26_urinal_v2_resnet50_fav'…"
      ]
     },
     "metadata": {},
     "output_type": "display_data"
    },
    {
     "data": {
      "application/vnd.jupyter.widget-view+json": {
       "model_id": "7c283174bf5b416281b93b70c2abefde",
       "version_major": 2,
       "version_minor": 0
      },
      "text/plain": [
       "Button(button_style='success', description='Run', style=ButtonStyle())"
      ]
     },
     "metadata": {},
     "output_type": "display_data"
    },
    {
     "data": {
      "application/vnd.jupyter.widget-view+json": {
       "model_id": "e029052152894c48b9bdc0caa9a44277",
       "version_major": 2,
       "version_minor": 0
      },
      "text/plain": [
       "HTML(value='<h2>Output</h2>')"
      ]
     },
     "metadata": {},
     "output_type": "display_data"
    },
    {
     "data": {
      "application/vnd.jupyter.widget-view+json": {
       "model_id": "e95e3b3a46b94c93b62f4318b18a711e",
       "version_major": 2,
       "version_minor": 0
      },
      "text/plain": [
       "Output(layout=Layout(border_bottom='1px solid black', border_left='1px solid black', border_right='1px solid b…"
      ]
     },
     "metadata": {},
     "output_type": "display_data"
    },
    {
     "name": "stdout",
     "output_type": "stream",
     "text": [
      "Image loaded\n"
     ]
    },
    {
     "name": "stderr",
     "output_type": "stream",
     "text": [
      "c:\\Users\\Martin\\miniconda3\\Lib\\site-packages\\torchvision\\models\\_utils.py:208: UserWarning: The parameter 'pretrained' is deprecated since 0.13 and may be removed in the future, please use 'weights' instead.\n",
      "  warnings.warn(\n",
      "c:\\Users\\Martin\\miniconda3\\Lib\\site-packages\\torchvision\\models\\_utils.py:223: UserWarning: Arguments other than a weight enum or `None` for 'weights' are deprecated since 0.13 and may be removed in the future. The current behavior is equivalent to passing `weights=Inception_V3_Weights.IMAGENET1K_V1`. You can also use `weights=Inception_V3_Weights.DEFAULT` to get the most up-to-date weights.\n",
      "  warnings.warn(msg)\n"
     ]
    },
    {
     "name": "stdout",
     "output_type": "stream",
     "text": [
      "Prediction: avgDirty\n"
     ]
    }
   ],
   "source": [
    "import torch\n",
    "from torchvision import models, transforms\n",
    "import ipywidgets as widgets\n",
    "from IPython.display import display\n",
    "from PIL import Image\n",
    "import os\n",
    "import io\n",
    "\n",
    "class_names = ['clean', 'avgDirty', 'dirty']\n",
    "global img, modelPath\n",
    "\n",
    "def use_model(model, device, img):\n",
    "    model = model.to(device)\n",
    "    model.eval()   # set model to evaluation mode\n",
    "\n",
    "    with torch.no_grad():   # no need to track gradients for validation\n",
    "        imgs = img.to(device)   # move data to device\n",
    "\n",
    "        # -- forward pass --\n",
    "        outputs = model(imgs)\n",
    "        _, preds = torch.max(outputs, 1)\n",
    "\n",
    "        return preds\n",
    "\n",
    "def run():\n",
    "    global img, modelPath\n",
    "    # --- Prepare Model ---\n",
    "    device = torch.device(\"cuda:0\" if torch.cuda.is_available() else \"cpu\")\n",
    "    model_ft = models.inception_v3(pretrained=True)\n",
    "    num_ftrs = model_ft.fc.in_features\n",
    "    model_ft.fc = torch.nn.Linear(num_ftrs, 3)\n",
    "    model_ft.to(device)\n",
    "    model = model_ft\n",
    "    model.load_state_dict(torch.load(modelPath))\n",
    "\n",
    "    # --- Prepare Image ---\n",
    "    transform = transforms.Compose([\n",
    "        transforms.Resize(512),\n",
    "        transforms.ToTensor(),\n",
    "        transforms.Normalize([0.485, 0.456, 0.406], [0.229, 0.224, 0.225])\n",
    "    ])\n",
    "\n",
    "    img = transform(img)\n",
    "    img = img.unsqueeze(0)  # add batch dimension\n",
    "\n",
    "    pred = use_model(model, device, img)\n",
    "    print(f\"Prediction: {class_names[pred.item()]}\")\n",
    "\n",
    "# Function to handle file selection\n",
    "def on_file_select(change):\n",
    "    global img\n",
    "\n",
    "    file_info = change['new'][0]  # Extract the file info dictionary from the tuple\n",
    "    file_content = file_info['content']  # Access the file content\n",
    "\n",
    "    # Convert the file content to an image\n",
    "    image = Image.open(io.BytesIO(file_content))\n",
    "    img = image\n",
    "    print(\"Image loaded\")\n",
    "\n",
    "    output.clear_output()\n",
    "    displayImage = widgets.Image(value=file_content, format='jpg', width=512, height=512)\n",
    "    with output:\n",
    "        display(displayImage)\n",
    "\n",
    "def get_datasets_from_folder(folder):\n",
    "    return [name for name in os.listdir(folder) if os.path.isdir(os.path.join(folder, name))]\n",
    "\n",
    "def on_run_button_clicked(b):\n",
    "    global modelPath\n",
    "\n",
    "    output.clear_output()\n",
    "    \n",
    "    # Get widget values\n",
    "    trainingFolder = trainingFolderWidget.value\n",
    "    modelPath = os.path.join('./trainingOutput', trainingFolder, 'best_model.pth')\n",
    "    run()\n",
    "\n",
    "\n",
    "# Create file picker widget\n",
    "file_picker = widgets.FileUpload(\n",
    "    accept='',  # Accept all file types\n",
    "    multiple=False,  # Only single file upload\n",
    "    description='Select Image',\n",
    "\n",
    ")\n",
    "# pick model\n",
    "trainingFolderWidget = widgets.Dropdown(description='Trainings', options=get_datasets_from_folder('./trainingOutput'))\n",
    "\n",
    "run_button = widgets.Button(description=\"Run\", button_style='success')\n",
    "run_button.on_click(on_run_button_clicked)\n",
    "\n",
    "outputTitle = widgets.HTML(value=\"<h2>Output</h2>\")\n",
    "output = widgets.Output()\n",
    "output.layout = {\n",
    "    'border': '1px solid black',\n",
    "    'overflow_y': 'auto',  # Add a vertical scrollbar in case of overflow\n",
    "}\n",
    "\n",
    "# Display widgets\n",
    "display(file_picker, trainingFolderWidget, run_button, outputTitle, output)\n",
    "\n",
    "# Observe changes in the file picker\n",
    "file_picker.observe(on_file_select, names='value')\n",
    "\n",
    "\n",
    "\n",
    "\n"
   ]
  }
 ],
 "metadata": {
  "kernelspec": {
   "display_name": "base",
   "language": "python",
   "name": "python3"
  },
  "language_info": {
   "codemirror_mode": {
    "name": "ipython",
    "version": 3
   },
   "file_extension": ".py",
   "mimetype": "text/x-python",
   "name": "python",
   "nbconvert_exporter": "python",
   "pygments_lexer": "ipython3",
   "version": "3.12.2"
  }
 },
 "nbformat": 4,
 "nbformat_minor": 2
}
