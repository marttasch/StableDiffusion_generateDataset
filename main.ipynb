{
 "cells": [
  {
   "cell_type": "code",
   "execution_count": 2,
   "metadata": {},
   "outputs": [],
   "source": [
    "from IPython.display import display, HTML\n",
    "import ipywidgets as widgets\n",
    "from ipywidgets import Layout\n",
    "import json\n",
    "import sys\n",
    "import os\n",
    "import subprocess"
   ]
  },
  {
   "cell_type": "markdown",
   "metadata": {},
   "source": [
    "# Prompt Generation\n",
    "Edit the File ``prompt_config.json`` to change the prompt generation parameters. The file contains the following parameters:\n"
   ]
  },
  {
   "cell_type": "code",
   "execution_count": 27,
   "metadata": {},
   "outputs": [
    {
     "data": {
      "application/vnd.jupyter.widget-view+json": {
       "model_id": "25e1f4d39e8840f5a659622f1b3901b7",
       "version_major": 2,
       "version_minor": 0
      },
      "text/plain": [
       "Text(value='prompt_config.json', description='Config file:')"
      ]
     },
     "metadata": {},
     "output_type": "display_data"
    },
    {
     "data": {
      "application/vnd.jupyter.widget-view+json": {
       "model_id": "7c6ecea55b184bce909ace1d98ca8e52",
       "version_major": 2,
       "version_minor": 0
      },
      "text/plain": [
       "HBox(children=(Button(description='Check config', style=ButtonStyle()), Button(description='Run genPrompt', st…"
      ]
     },
     "metadata": {},
     "output_type": "display_data"
    },
    {
     "data": {
      "application/vnd.jupyter.widget-view+json": {
       "model_id": "1be81c355ef1429692e959d622df0900",
       "version_major": 2,
       "version_minor": 0
      },
      "text/plain": [
       "Output(layout=Layout(border_bottom='1px solid black', border_left='1px solid black', border_right='1px solid b…"
      ]
     },
     "metadata": {},
     "output_type": "display_data"
    }
   ],
   "source": [
    "def check_config(config_file):\n",
    "    buttonRunGenPrompt.layout.border = '1px solid black'\n",
    "    buttonCheckConfig.layout.border = '2px solid red'\n",
    "    output.clear_output()\n",
    "    with open(config_file) as f:\n",
    "        config = json.load(f)\n",
    "    with output:\n",
    "        print(json.dumps(config, indent=4))\n",
    "\n",
    "def run_gen_prompt(config_file):\n",
    "    output.clear_output()\n",
    "    buttonRunGenPrompt.layout.border = '2px solid red'\n",
    "    buttonCheckConfig.layout.border = '1px solid black'\n",
    "    with output:\n",
    "        print(f\"Running genPrompt with config file {config_file}\")\n",
    "        # run genPrompt\n",
    "        # !genPrompt -c {config_file}\n",
    "        result = subprocess.run(f\"python ./src/genPrompt/genPrompt.py {config_file}\", shell=True, capture_output=True, text=True)\n",
    "        print(result.stdout)\n",
    "\n",
    "textfield = widgets.Text(value='prompt_config.json', description='Config file:', disabled=False)\n",
    "\n",
    "# check config button\n",
    "buttonCheckConfig = widgets.Button(description=\"Check config\")\n",
    "buttonCheckConfig.on_click(lambda b: check_config(textfield.value))\n",
    "\n",
    "# run button\n",
    "buttonRunGenPrompt = widgets.Button(description=\"Run genPrompt\")\n",
    "buttonRunGenPrompt.on_click(lambda b: run_gen_prompt(textfield.value))\n",
    "\n",
    "# output\n",
    "output = widgets.Output()\n",
    "output.layout = {'border': '1px solid black'}\n",
    "\n",
    "# run genPrompt container\n",
    "\n",
    "buttonHbox = widgets.HBox([buttonCheckConfig, buttonRunGenPrompt])\n",
    "display(textfield, buttonHbox, output)"
   ]
  },
  {
   "cell_type": "markdown",
   "metadata": {},
   "source": [
    "# Dataset Generation"
   ]
  },
  {
   "cell_type": "code",
   "execution_count": 29,
   "metadata": {},
   "outputs": [
    {
     "data": {
      "application/vnd.jupyter.widget-view+json": {
       "model_id": "f50ff9873a514828a04157a9c8c9e0cc",
       "version_major": 2,
       "version_minor": 0
      },
      "text/plain": [
       "Text(value='', description='Dataset Name:')"
      ]
     },
     "metadata": {},
     "output_type": "display_data"
    },
    {
     "data": {
      "application/vnd.jupyter.widget-view+json": {
       "model_id": "2a1aaf20371545bf851e7af7c1afd84b",
       "version_major": 2,
       "version_minor": 0
      },
      "text/plain": [
       "Text(value='', description='Prompt Config:')"
      ]
     },
     "metadata": {},
     "output_type": "display_data"
    },
    {
     "data": {
      "application/vnd.jupyter.widget-view+json": {
       "model_id": "19f698c894eb4434b6c3a3578c5f6883",
       "version_major": 2,
       "version_minor": 0
      },
      "text/plain": [
       "Button(description='Run Code', style=ButtonStyle())"
      ]
     },
     "metadata": {},
     "output_type": "display_data"
    },
    {
     "name": "stdout",
     "output_type": "stream",
     "text": [
      "Dataset Name: urinaltest\n",
      "Prompt Config: asdfasd\n"
     ]
    }
   ],
   "source": [
    "import ipywidgets as widgets\n",
    "\n",
    "\n",
    "\n",
    "# Create a button widget to run code\n",
    "runButton = widgets.Button(description='Run Code')\n",
    "\n",
    "# Define what happens when the button is clicked\n",
    "def on_button_clicked(b):\n",
    "    # You can put any code here that should be executed when the button is clicked\n",
    "    print(f\"Dataset Name: {datasetName.value}\")\n",
    "    print(f\"Prompt Config: {promptConfig.value}\")\n",
    "\n",
    "runButton.on_click(on_button_clicked)\n",
    "\n",
    "# Display the widgets\n",
    "display(datasetName, promptConfig, runButton)"
   ]
  },
  {
   "cell_type": "code",
   "execution_count": 11,
   "metadata": {},
   "outputs": [
    {
     "data": {
      "application/vnd.jupyter.widget-view+json": {
       "model_id": "09e93fb7a38b4d29bafc503063c0f89a",
       "version_major": 2,
       "version_minor": 0
      },
      "text/plain": [
       "HBox(children=(VBox(children=(Text(value='urinal_Dataset_v1', description='Dataset Name:', layout=Layout(width…"
      ]
     },
     "metadata": {},
     "output_type": "display_data"
    },
    {
     "data": {
      "application/vnd.jupyter.widget-view+json": {
       "model_id": "c2eb3d65e5804be7ba4b517b26d23c5f",
       "version_major": 2,
       "version_minor": 0
      },
      "text/plain": [
       "VBox(children=(HTML(value='<h2>Output</h2>'), Output(layout=Layout(border_bottom='1px solid black', border_lef…"
      ]
     },
     "metadata": {},
     "output_type": "display_data"
    }
   ],
   "source": [
    "from IPython.display import display, HTML\n",
    "import ipywidgets as widgets\n",
    "\n",
    "checkboxStates = {\n",
    "    'Generate Dataset': False,\n",
    "    'Segmentation': False,\n",
    "    'Dataset': False,\n",
    "    'CNN Training': False\n",
    "}\n",
    "def on_run_button_clicked(b):\n",
    "    # clear print output\n",
    "    # print the selected values\n",
    "    output.clear_output()\n",
    "    with output:\n",
    "        print(\"Selected values:\")\n",
    "        print(f\"  Dataset Name: {datasetName.value}\")\n",
    "        print(f\"  Prompt Config: {promptConfig.value}\")\n",
    "        print(f\"  {checkboxStates}\")\n",
    "\n",
    "        # run script\n",
    "        command = f\"start cmd /k python generateDataset.py --datasetName {datasetName.value} --promptConfig {promptConfig.value}\"\n",
    "        print(f\"\\nExecuting command: {command}\")\n",
    "        os.system(command)\n",
    "\n",
    "def on_checkbox_change(change):\n",
    "    checkboxStates[change.owner.description] = change.new\n",
    "\n",
    "# Create a text widget for datasetName\n",
    "datasetName = widgets.Text(\n",
    "    value='urinal_Dataset_v1',\n",
    "    description='Dataset Name:',\n",
    "    disabled=False,\n",
    "    layout=Layout(width='auto')  # Set the width to 'auto'\n",
    ")\n",
    "# Create a text widget for promptConfig\n",
    "promptConfig = widgets.Text(\n",
    "    value='prompt_config.json',\n",
    "    description='Prompt Config:',\n",
    "    disabled=False,\n",
    "    layout=Layout(width='auto')  # Set the width to 'auto'\n",
    ")\n",
    "# combine the two text widgets into a VBox\n",
    "textWidgets = widgets.VBox([datasetName, promptConfig])\n",
    "\n",
    "# select multiple values\n",
    "checkboxGenerateDataset = widgets.Checkbox(value=False, description='Generate Dataset')\n",
    "checkboxGenerateDataset.observe(on_checkbox_change, names='value')\n",
    "checkboxSegmentation = widgets.Checkbox(value=False, description='Segmentation')\n",
    "checkboxSegmentation.observe(on_checkbox_change, names='value')\n",
    "checkboxDateset = widgets.Checkbox(value=False, description='Dataset')\n",
    "checkboxDateset.observe(on_checkbox_change, names='value')\n",
    "checkboxCNNTraining = widgets.Checkbox(value=False, description='CNN Training')\n",
    "checkboxCNNTraining.observe(on_checkbox_change, names='value')\n",
    "\n",
    "checkboxes = widgets.VBox([checkboxGenerateDataset, checkboxSegmentation, checkboxDateset, checkboxCNNTraining])\n",
    "\n",
    "# Create a button widget to run code\n",
    "button = widgets.Button(description=\"Run\", button_style='success')\n",
    "button.on_click(on_run_button_clicked)\n",
    "\n",
    "# combine the checkboxes and button into a HBox\n",
    "hbox = widgets.HBox([textWidgets, checkboxes, button])\n",
    "\n",
    "\n",
    "# create output widget\n",
    "outputTitle = widgets.HTML(value=\"<h2>Output</h2>\")\n",
    "output = widgets.Output()\n",
    "output.layout = {'border': '1px solid black'}\n",
    "outputVbox = widgets.VBox([outputTitle, output])\n",
    "\n",
    "display(hbox, outputVbox)\n"
   ]
  }
 ],
 "metadata": {
  "kernelspec": {
   "display_name": "base",
   "language": "python",
   "name": "python3"
  },
  "language_info": {
   "codemirror_mode": {
    "name": "ipython",
    "version": 3
   },
   "file_extension": ".py",
   "mimetype": "text/x-python",
   "name": "python",
   "nbconvert_exporter": "python",
   "pygments_lexer": "ipython3",
   "version": "3.12.2"
  }
 },
 "nbformat": 4,
 "nbformat_minor": 2
}
