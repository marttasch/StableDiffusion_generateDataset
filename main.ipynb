{
 "cells": [
  {
   "cell_type": "code",
   "execution_count": 1,
   "metadata": {},
   "outputs": [],
   "source": [
    "from IPython.display import display, HTML\n",
    "import ipywidgets as widgets\n",
    "from ipywidgets import Layout\n",
    "import json\n",
    "import sys\n",
    "import os\n",
    "import subprocess"
   ]
  },
  {
   "cell_type": "markdown",
   "metadata": {},
   "source": [
    "# Prompt Generation\n",
    "Edit the File ``prompt_config.json`` to change the prompt generation parameters. The file contains the following parameters:\n"
   ]
  },
  {
   "cell_type": "code",
   "execution_count": 16,
   "metadata": {},
   "outputs": [
    {
     "data": {
      "application/vnd.jupyter.widget-view+json": {
       "model_id": "b75c605ebf63452f9ba4aecf7152f040",
       "version_major": 2,
       "version_minor": 0
      },
      "text/plain": [
       "Text(value='prompt_config.json', description='Config file:')"
      ]
     },
     "metadata": {},
     "output_type": "display_data"
    },
    {
     "data": {
      "application/vnd.jupyter.widget-view+json": {
       "model_id": "f130fe0bbfc04d0f9578ee3fb5c53421",
       "version_major": 2,
       "version_minor": 0
      },
      "text/plain": [
       "HBox(children=(Button(description='Check config', style=ButtonStyle()), Button(description='Run genPrompt', st…"
      ]
     },
     "metadata": {},
     "output_type": "display_data"
    },
    {
     "data": {
      "application/vnd.jupyter.widget-view+json": {
       "model_id": "19f23609d07648558b31add887d7d7aa",
       "version_major": 2,
       "version_minor": 0
      },
      "text/plain": [
       "Output(layout=Layout(border_bottom='1px solid black', border_left='1px solid black', border_right='1px solid b…"
      ]
     },
     "metadata": {},
     "output_type": "display_data"
    }
   ],
   "source": [
    "def check_config(config_file):\n",
    "    buttonRunGenPrompt.layout.border = '1px solid black'\n",
    "    buttonCheckConfig.layout.border = '2px solid red'\n",
    "    output.clear_output()\n",
    "    with open(config_file) as f:\n",
    "        config = json.load(f)\n",
    "    with output:\n",
    "        print(json.dumps(config, indent=4))\n",
    "\n",
    "def run_gen_prompt(config_file):\n",
    "    output.clear_output()\n",
    "    buttonRunGenPrompt.layout.border = '2px solid red'\n",
    "    buttonCheckConfig.layout.border = '1px solid black'\n",
    "    with output:\n",
    "        # run genPrompt\n",
    "        command = f\"python ./src/genPrompt.py {config_file}\"\n",
    "        print(f\"running: {command}\")\n",
    "        os.system(command)\n",
    "        \n",
    "\n",
    "textfield = widgets.Text(value='prompt_config.json', description='Config file:', disabled=False)\n",
    "\n",
    "# check config button\n",
    "buttonCheckConfig = widgets.Button(description=\"Check config\")\n",
    "buttonCheckConfig.on_click(lambda b: check_config(textfield.value))\n",
    "\n",
    "# run button\n",
    "buttonRunGenPrompt = widgets.Button(description=\"Run genPrompt\")\n",
    "buttonRunGenPrompt.on_click(lambda b: run_gen_prompt(textfield.value))\n",
    "\n",
    "# output\n",
    "output = widgets.Output()\n",
    "output.layout = {'border': '1px solid black'}\n",
    "\n",
    "# run genPrompt container\n",
    "\n",
    "buttonHbox = widgets.HBox([buttonCheckConfig, buttonRunGenPrompt])\n",
    "display(textfield, buttonHbox, output)"
   ]
  },
  {
   "cell_type": "markdown",
   "metadata": {},
   "source": [
    "# Dataset Generation"
   ]
  },
  {
   "cell_type": "code",
   "execution_count": 10,
   "metadata": {},
   "outputs": [
    {
     "data": {
      "application/vnd.jupyter.widget-view+json": {
       "model_id": "15e373207c1a4892a4ab25b88b094008",
       "version_major": 2,
       "version_minor": 0
      },
      "text/plain": [
       "HBox(children=(VBox(children=(Text(value='urinal_Dataset_v1', description='Dataset Name:', layout=Layout(width…"
      ]
     },
     "metadata": {},
     "output_type": "display_data"
    },
    {
     "data": {
      "application/vnd.jupyter.widget-view+json": {
       "model_id": "bcd7d68d326944d6b5985318f4fb7763",
       "version_major": 2,
       "version_minor": 0
      },
      "text/plain": [
       "VBox(children=(HTML(value='<h2>Output</h2>'), Output(layout=Layout(border_bottom='1px solid black', border_lef…"
      ]
     },
     "metadata": {},
     "output_type": "display_data"
    }
   ],
   "source": [
    "from IPython.display import display, HTML\n",
    "import ipywidgets as widgets\n",
    "\n",
    "checkboxStates = {\n",
    "    'Generate Dataset': False,\n",
    "    'Segmentation': False,\n",
    "    'Dataset': False,\n",
    "    'CNN Training': False\n",
    "}\n",
    "def on_run_button_clicked(b):\n",
    "    # clear print output\n",
    "    # print the selected values\n",
    "    output.clear_output()\n",
    "    with output:\n",
    "        print(\"Selected values:\")\n",
    "        print(f\"  Dataset Name: {datasetName.value}\")\n",
    "        print(f\"  Prompt Config: {promptConfig.value}\")\n",
    "        print(f\"  {checkboxStates}\")\n",
    "\n",
    "        # get checkbox values\n",
    "        checkboxArguments = \"\"\n",
    "        for key, value in checkboxStates.items():\n",
    "            if key == 'Generate Dataset':\n",
    "                if value:\n",
    "                    checkboxArguments += \"--generateDataset True \"\n",
    "                else:\n",
    "                    checkboxArguments += \"--generateDataset False \"\n",
    "            elif key == 'Segmentation':\n",
    "                if value:\n",
    "                    checkboxArguments += \"--segmentateImages True \"\n",
    "                else:\n",
    "                    checkboxArguments += \"--segmentateImages False \"\n",
    "            elif key == 'prepare Trainings Dataset':\n",
    "                if value:\n",
    "                    checkboxArguments += \"--createTrainingDataset True \"\n",
    "                else:\n",
    "                    checkboxArguments += \"--createTrainingDataset False \"\n",
    "        # run script\n",
    "        command = f\"start cmd /k python generateDataset.py --datasetName {datasetName.value} --promptConfig {promptConfig.value} {checkboxArguments}\"\n",
    "        print(f\"\\nExecuting command: {command}\")\n",
    "        os.system(command)\n",
    "\n",
    "def on_checkbox_change(change):\n",
    "    checkboxStates[change.owner.description] = change.new\n",
    "\n",
    "# Create a text widget for datasetName\n",
    "datasetName = widgets.Text(\n",
    "    value='urinal_Dataset_v1',\n",
    "    description='Dataset Name:',\n",
    "    disabled=False,\n",
    "    layout=Layout(width='auto')  # Set the width to 'auto'\n",
    ")\n",
    "# Create a text widget for promptConfig\n",
    "promptConfig = widgets.Text(\n",
    "    value='prompt_config.json',\n",
    "    description='Prompt Config:',\n",
    "    disabled=False,\n",
    "    layout=Layout(width='auto')  # Set the width to 'auto'\n",
    ")\n",
    "# combine the two text widgets into a VBox\n",
    "textWidgets = widgets.VBox([datasetName, promptConfig])\n",
    "\n",
    "# select multiple values\n",
    "checkboxGenerateDataset = widgets.Checkbox(value=False, description='Generate Dataset')\n",
    "checkboxGenerateDataset.observe(on_checkbox_change, names='value')\n",
    "checkboxSegmentation = widgets.Checkbox(value=False, description='Segmentation')\n",
    "checkboxSegmentation.observe(on_checkbox_change, names='value')\n",
    "checkboxDateset = widgets.Checkbox(value=False, description='prepare Trainings Dataset')\n",
    "checkboxDateset.observe(on_checkbox_change, names='value')\n",
    "\n",
    "checkboxCNNTraining = widgets.Checkbox(value=False, description='CNN Training', disabled=True)\n",
    "checkboxCNNTraining.observe(on_checkbox_change, names='value')\n",
    "\n",
    "checkboxes = widgets.VBox([checkboxGenerateDataset, checkboxSegmentation, checkboxDateset, checkboxCNNTraining])\n",
    "\n",
    "# Create a button widget to run code\n",
    "button = widgets.Button(description=\"Run\", button_style='success')\n",
    "button.on_click(on_run_button_clicked)\n",
    "\n",
    "# combine the checkboxes and button into a HBox\n",
    "hbox = widgets.HBox([textWidgets, checkboxes, button])\n",
    "\n",
    "\n",
    "# create output widget\n",
    "outputTitle = widgets.HTML(value=\"<h2>Output</h2>\")\n",
    "output = widgets.Output()\n",
    "output.layout = {\n",
    "    'border': '1px solid black',\n",
    "    'overflow_y': 'auto',  # Add a vertical scrollbar in case of overflow\n",
    "}\n",
    "outputVbox = widgets.VBox([outputTitle, output])\n",
    "\n",
    "display(hbox, outputVbox)\n"
   ]
  },
  {
   "cell_type": "markdown",
   "metadata": {},
   "source": [
    "# CNN Model Training"
   ]
  },
  {
   "cell_type": "code",
   "execution_count": 13,
   "metadata": {},
   "outputs": [
    {
     "data": {
      "application/vnd.jupyter.widget-view+json": {
       "model_id": "676f6cf27a864d05b2dc2fc7c00ee5dc",
       "version_major": 2,
       "version_minor": 0
      },
      "text/plain": [
       "Dropdown(description='Dataset', options=('urinal_Dataset_v3', 'urinal_Dataset_v4', 'urinal_Dataset_v5', 'urina…"
      ]
     },
     "metadata": {},
     "output_type": "display_data"
    },
    {
     "data": {
      "application/vnd.jupyter.widget-view+json": {
       "model_id": "55c1ef6b772e4cd2a649fac51208801b",
       "version_major": 2,
       "version_minor": 0
      },
      "text/plain": [
       "Dropdown(description='Model', options=('resnet50', 'inception_v3'), value='resnet50')"
      ]
     },
     "metadata": {},
     "output_type": "display_data"
    },
    {
     "data": {
      "application/vnd.jupyter.widget-view+json": {
       "model_id": "60c0820381bc4d298159733114e88a39",
       "version_major": 2,
       "version_minor": 0
      },
      "text/plain": [
       "Dropdown(description='Model Selection', options=('fine-tuning', 'feature-extraction'), value='fine-tuning')"
      ]
     },
     "metadata": {},
     "output_type": "display_data"
    },
    {
     "data": {
      "application/vnd.jupyter.widget-view+json": {
       "model_id": "e667980cb0e842de83177c1faa2c91b6",
       "version_major": 2,
       "version_minor": 0
      },
      "text/plain": [
       "Button(button_style='success', description='Run', style=ButtonStyle())"
      ]
     },
     "metadata": {},
     "output_type": "display_data"
    },
    {
     "data": {
      "application/vnd.jupyter.widget-view+json": {
       "model_id": "7522c286fd104e2798b11250d5eceff5",
       "version_major": 2,
       "version_minor": 0
      },
      "text/plain": [
       "HTML(value='<h2>Output</h2>')"
      ]
     },
     "metadata": {},
     "output_type": "display_data"
    },
    {
     "data": {
      "application/vnd.jupyter.widget-view+json": {
       "model_id": "eca36a9b98a946e684cf1a630fabd594",
       "version_major": 2,
       "version_minor": 0
      },
      "text/plain": [
       "Output(layout=Layout(border_bottom='1px solid black', border_left='1px solid black', border_right='1px solid b…"
      ]
     },
     "metadata": {},
     "output_type": "display_data"
    }
   ],
   "source": [
    "import ipywidgets as widgets\n",
    "from IPython.display import display\n",
    "import subprocess\n",
    "\n",
    "def get_datasets_from_folder(folder):\n",
    "    return [name for name in os.listdir(folder) if os.path.isdir(os.path.join(folder, name))]\n",
    "\n",
    "def on_run_button_clicked(b):\n",
    "\n",
    "    output.clear_output()\n",
    "    \n",
    "    # Get widget values\n",
    "    dataset = dataset_widget.value\n",
    "    model = model_widget.value\n",
    "    model_selection = model_selection_widget.value\n",
    "    if model_selection == 'fine-tuning':\n",
    "        model_selection = '1'\n",
    "    else:\n",
    "        model_selection = '2'\n",
    "\n",
    "    # run script\n",
    "    with output:\n",
    "        command = f\"start cmd /k python ./src/trainCNN/trainCNN.py --dataset {dataset} --model {model} --modelSelection {model_selection}\"\n",
    "        print(f\"\\nExecuting command: {command}\")\n",
    "        os.system(command)\n",
    "\n",
    "# Create widgets\n",
    "#dataset_widget = widgets.Text(description='Dataset', value='urinal_v2')\n",
    "dataset_widget = widgets.Dropdown(description='Dataset', options=get_datasets_from_folder('./datasets'))\n",
    "model_widget = widgets.Dropdown(description='Model', options=['resnet50', 'inception_v3'])\n",
    "model_selection_widget = widgets.Dropdown(description='Model Selection', options=['fine-tuning', 'feature-extraction'])\n",
    "\n",
    "run_button = widgets.Button(description=\"Run\", button_style='success')\n",
    "\n",
    "outputTitle = widgets.HTML(value=\"<h2>Output</h2>\")\n",
    "output = widgets.Output()\n",
    "output.layout = {\n",
    "    'border': '1px solid black',\n",
    "    'overflow_y': 'auto',  # Add a vertical scrollbar in case of overflow\n",
    "}\n",
    "\n",
    "# Display widgets\n",
    "display(dataset_widget, model_widget, model_selection_widget, run_button, outputTitle, output)\n",
    "\n",
    "run_button.on_click(on_run_button_clicked)\n",
    "\n"
   ]
  }
 ],
 "metadata": {
  "kernelspec": {
   "display_name": "base",
   "language": "python",
   "name": "python3"
  },
  "language_info": {
   "codemirror_mode": {
    "name": "ipython",
    "version": 3
   },
   "file_extension": ".py",
   "mimetype": "text/x-python",
   "name": "python",
   "nbconvert_exporter": "python",
   "pygments_lexer": "ipython3",
   "version": "3.12.2"
  }
 },
 "nbformat": 4,
 "nbformat_minor": 2
}
