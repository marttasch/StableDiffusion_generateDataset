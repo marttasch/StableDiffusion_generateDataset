{
 "cells": [
  {
   "cell_type": "code",
   "execution_count": 1,
   "metadata": {},
   "outputs": [],
   "source": [
    "from IPython.display import display, HTML\n",
    "import ipywidgets as widgets\n",
    "from ipywidgets import Layout\n",
    "import json\n",
    "import sys\n",
    "import os\n",
    "import subprocess"
   ]
  },
  {
   "cell_type": "markdown",
   "metadata": {},
   "source": [
    "# Prompt Generation\n",
    "Edit the File ``prompt_config.json`` to change the prompt generation parameters. The file contains the following parameters:\n"
   ]
  },
  {
   "cell_type": "code",
   "execution_count": 2,
   "metadata": {},
   "outputs": [
    {
     "data": {
      "application/vnd.jupyter.widget-view+json": {
       "model_id": "0f0164a095d449f1adcac3ddff989e4b",
       "version_major": 2,
       "version_minor": 0
      },
      "text/plain": [
       "Text(value='prompt_config.json', description='Config file:')"
      ]
     },
     "metadata": {},
     "output_type": "display_data"
    },
    {
     "data": {
      "application/vnd.jupyter.widget-view+json": {
       "model_id": "0a7e1fc304194926b986f2d90be6ff7d",
       "version_major": 2,
       "version_minor": 0
      },
      "text/plain": [
       "HBox(children=(Button(description='Check config', style=ButtonStyle()), Button(description='Run genPrompt', st…"
      ]
     },
     "metadata": {},
     "output_type": "display_data"
    },
    {
     "data": {
      "application/vnd.jupyter.widget-view+json": {
       "model_id": "a2099ada4d4c4bb98f8e06667e408c09",
       "version_major": 2,
       "version_minor": 0
      },
      "text/plain": [
       "Output(layout=Layout(border_bottom='1px solid black', border_left='1px solid black', border_right='1px solid b…"
      ]
     },
     "metadata": {},
     "output_type": "display_data"
    }
   ],
   "source": [
    "def check_config(config_file):\n",
    "    buttonRunGenPrompt.layout.border = '1px solid black'\n",
    "    buttonCheckConfig.layout.border = '2px solid red'\n",
    "    output.clear_output()\n",
    "    with open(config_file) as f:\n",
    "        config = json.load(f)\n",
    "    with output:\n",
    "        print(json.dumps(config, indent=4))\n",
    "\n",
    "def run_gen_prompt(config_file):\n",
    "    output.clear_output()\n",
    "    buttonRunGenPrompt.layout.border = '2px solid red'\n",
    "    buttonCheckConfig.layout.border = '1px solid black'\n",
    "    with output:\n",
    "        print(f\"Running genPrompt with config file {config_file}\")\n",
    "        # run genPrompt\n",
    "        # !genPrompt -c {config_file}\n",
    "        result = subprocess.run(f\"python ./src/genPrompt/genPrompt.py {config_file}\", shell=True, capture_output=True, text=True)\n",
    "        print(result.stdout)\n",
    "\n",
    "textfield = widgets.Text(value='prompt_config.json', description='Config file:', disabled=False)\n",
    "\n",
    "# check config button\n",
    "buttonCheckConfig = widgets.Button(description=\"Check config\")\n",
    "buttonCheckConfig.on_click(lambda b: check_config(textfield.value))\n",
    "\n",
    "# run button\n",
    "buttonRunGenPrompt = widgets.Button(description=\"Run genPrompt\")\n",
    "buttonRunGenPrompt.on_click(lambda b: run_gen_prompt(textfield.value))\n",
    "\n",
    "# output\n",
    "output = widgets.Output()\n",
    "output.layout = {'border': '1px solid black'}\n",
    "\n",
    "# run genPrompt container\n",
    "\n",
    "buttonHbox = widgets.HBox([buttonCheckConfig, buttonRunGenPrompt])\n",
    "display(textfield, buttonHbox, output)"
   ]
  },
  {
   "cell_type": "markdown",
   "metadata": {},
   "source": [
    "# Dataset Generation"
   ]
  },
  {
   "cell_type": "code",
   "execution_count": 6,
   "metadata": {},
   "outputs": [
    {
     "data": {
      "application/vnd.jupyter.widget-view+json": {
       "model_id": "65bdc050ce7647efa5aa2d5d643ece7a",
       "version_major": 2,
       "version_minor": 0
      },
      "text/plain": [
       "HBox(children=(VBox(children=(Text(value='urinal_Dataset_v1', description='Dataset Name:', layout=Layout(width…"
      ]
     },
     "metadata": {},
     "output_type": "display_data"
    },
    {
     "data": {
      "application/vnd.jupyter.widget-view+json": {
       "model_id": "efdd60880a5a4761ab6a6c08003be113",
       "version_major": 2,
       "version_minor": 0
      },
      "text/plain": [
       "VBox(children=(HTML(value='<h2>Output</h2>'), Output(layout=Layout(border_bottom='1px solid black', border_lef…"
      ]
     },
     "metadata": {},
     "output_type": "display_data"
    }
   ],
   "source": [
    "from IPython.display import display, HTML\n",
    "import ipywidgets as widgets\n",
    "\n",
    "checkboxStates = {\n",
    "    'Generate Dataset': False,\n",
    "    'Segmentation': False,\n",
    "    'Dataset': False,\n",
    "    'CNN Training': False\n",
    "}\n",
    "def on_run_button_clicked(b):\n",
    "    # clear print output\n",
    "    # print the selected values\n",
    "    output.clear_output()\n",
    "    with output:\n",
    "        print(\"Selected values:\")\n",
    "        print(f\"  Dataset Name: {datasetName.value}\")\n",
    "        print(f\"  Prompt Config: {promptConfig.value}\")\n",
    "        print(f\"  {checkboxStates}\")\n",
    "\n",
    "        # get checkbox values\n",
    "        checkboxArguments = \"\"\n",
    "        for key, value in checkboxStates.items():\n",
    "            if key == 'Generate Dataset':\n",
    "                if value:\n",
    "                    checkboxArguments += \"--generateDataset True \"\n",
    "                else:\n",
    "                    checkboxArguments += \"--generateDataset False \"\n",
    "            elif key == 'Segmentation':\n",
    "                if value:\n",
    "                    checkboxArguments += \"--segmentateImages True \"\n",
    "                else:\n",
    "                    checkboxArguments += \"--segmentateImages False \"\n",
    "            elif key == 'prepare Trainings Dataset':\n",
    "                if value:\n",
    "                    checkboxArguments += \"--createTrainingDataset True \"\n",
    "                else:\n",
    "                    checkboxArguments += \"--createTrainingDataset False \"\n",
    "        # run script\n",
    "        command = f\"start cmd /k python generateDataset.py --datasetName {datasetName.value} --promptConfig {promptConfig.value} {checkboxArguments}\"\n",
    "        print(f\"\\nExecuting command: {command}\")\n",
    "        os.system(command)\n",
    "\n",
    "def on_checkbox_change(change):\n",
    "    checkboxStates[change.owner.description] = change.new\n",
    "\n",
    "# Create a text widget for datasetName\n",
    "datasetName = widgets.Text(\n",
    "    value='urinal_Dataset_v1',\n",
    "    description='Dataset Name:',\n",
    "    disabled=False,\n",
    "    layout=Layout(width='auto')  # Set the width to 'auto'\n",
    ")\n",
    "# Create a text widget for promptConfig\n",
    "promptConfig = widgets.Text(\n",
    "    value='prompt_config.json',\n",
    "    description='Prompt Config:',\n",
    "    disabled=False,\n",
    "    layout=Layout(width='auto')  # Set the width to 'auto'\n",
    ")\n",
    "# combine the two text widgets into a VBox\n",
    "textWidgets = widgets.VBox([datasetName, promptConfig])\n",
    "\n",
    "# select multiple values\n",
    "checkboxGenerateDataset = widgets.Checkbox(value=False, description='Generate Dataset')\n",
    "checkboxGenerateDataset.observe(on_checkbox_change, names='value')\n",
    "checkboxSegmentation = widgets.Checkbox(value=False, description='Segmentation')\n",
    "checkboxSegmentation.observe(on_checkbox_change, names='value')\n",
    "checkboxDateset = widgets.Checkbox(value=False, description='prepare Trainings Dataset')\n",
    "checkboxDateset.observe(on_checkbox_change, names='value')\n",
    "\n",
    "checkboxCNNTraining = widgets.Checkbox(value=False, description='CNN Training', disabled=True)\n",
    "checkboxCNNTraining.observe(on_checkbox_change, names='value')\n",
    "\n",
    "checkboxes = widgets.VBox([checkboxGenerateDataset, checkboxSegmentation, checkboxDateset, checkboxCNNTraining])\n",
    "\n",
    "# Create a button widget to run code\n",
    "button = widgets.Button(description=\"Run\", button_style='success')\n",
    "button.on_click(on_run_button_clicked)\n",
    "\n",
    "# combine the checkboxes and button into a HBox\n",
    "hbox = widgets.HBox([textWidgets, checkboxes, button])\n",
    "\n",
    "\n",
    "# create output widget\n",
    "outputTitle = widgets.HTML(value=\"<h2>Output</h2>\")\n",
    "output = widgets.Output()\n",
    "output.layout = {\n",
    "    'border': '1px solid black',\n",
    "    'overflow_y': 'auto',  # Add a vertical scrollbar in case of overflow\n",
    "}\n",
    "outputVbox = widgets.VBox([outputTitle, output])\n",
    "\n",
    "display(hbox, outputVbox)\n"
   ]
  },
  {
   "cell_type": "markdown",
   "metadata": {},
   "source": [
    "# CNN Model Training"
   ]
  },
  {
   "cell_type": "code",
   "execution_count": 44,
   "metadata": {},
   "outputs": [
    {
     "data": {
      "application/vnd.jupyter.widget-view+json": {
       "model_id": "14901f2bc96340d3828937fec8c26813",
       "version_major": 2,
       "version_minor": 0
      },
      "text/plain": [
       "Dropdown(description='Dataset', options=('urinal_v2',), value='urinal_v2')"
      ]
     },
     "metadata": {},
     "output_type": "display_data"
    },
    {
     "data": {
      "application/vnd.jupyter.widget-view+json": {
       "model_id": "26680e72e3e94c6f91ba579858e66a82",
       "version_major": 2,
       "version_minor": 0
      },
      "text/plain": [
       "Dropdown(description='Model', options=('resnet50', 'inception_v3'), value='resnet50')"
      ]
     },
     "metadata": {},
     "output_type": "display_data"
    },
    {
     "data": {
      "application/vnd.jupyter.widget-view+json": {
       "model_id": "d55170e9a9ef4b40a743afabe144cd75",
       "version_major": 2,
       "version_minor": 0
      },
      "text/plain": [
       "Dropdown(description='Model Selection', options=('fine-tuning', 'feature-extraction'), value='fine-tuning')"
      ]
     },
     "metadata": {},
     "output_type": "display_data"
    },
    {
     "data": {
      "application/vnd.jupyter.widget-view+json": {
       "model_id": "c0c5c29e79ed49c2b72af7e0d07e5944",
       "version_major": 2,
       "version_minor": 0
      },
      "text/plain": [
       "Button(button_style='success', description='Run', style=ButtonStyle())"
      ]
     },
     "metadata": {},
     "output_type": "display_data"
    },
    {
     "data": {
      "application/vnd.jupyter.widget-view+json": {
       "model_id": "52c5e53caf044bfd9f0d7ef1ed4b836a",
       "version_major": 2,
       "version_minor": 0
      },
      "text/plain": [
       "HTML(value='<h2>Output</h2>')"
      ]
     },
     "metadata": {},
     "output_type": "display_data"
    },
    {
     "data": {
      "application/vnd.jupyter.widget-view+json": {
       "model_id": "6ae77601d59e43fb9be2911faa9c416c",
       "version_major": 2,
       "version_minor": 0
      },
      "text/plain": [
       "Output(layout=Layout(border_bottom='1px solid black', border_left='1px solid black', border_right='1px solid b…"
      ]
     },
     "metadata": {},
     "output_type": "display_data"
    }
   ],
   "source": [
    "import ipywidgets as widgets\n",
    "from IPython.display import display\n",
    "import subprocess\n",
    "\n",
    "def get_datasets_from_folder(folder):\n",
    "    return [name for name in os.listdir(folder) if os.path.isdir(os.path.join(folder, name))]\n",
    "\n",
    "def on_run_button_clicked(b):\n",
    "\n",
    "    output.clear_output()\n",
    "    \n",
    "    # Get widget values\n",
    "    dataset = dataset_widget.value\n",
    "    model = model_widget.value\n",
    "    model_selection = model_selection_widget.value\n",
    "    if model_selection == 'fine-tuning':\n",
    "        model_selection = '1'\n",
    "    else:\n",
    "        model_selection = '2'\n",
    "\n",
    "    # run script\n",
    "    with output:\n",
    "        command = f\"start cmd /k python ./src/trainCNN/trainCNN.py --dataset {dataset} --model {model} --modelSelection {model_selection}\"\n",
    "        print(f\"\\nExecuting command: {command}\")\n",
    "        os.system(command)\n",
    "\n",
    "# Create widgets\n",
    "#dataset_widget = widgets.Text(description='Dataset', value='urinal_v2')\n",
    "dataset_widget = widgets.Dropdown(description='Dataset', options=get_datasets_from_folder('./datasets'))\n",
    "model_widget = widgets.Dropdown(description='Model', options=['resnet50', 'inception_v3'])\n",
    "model_selection_widget = widgets.Dropdown(description='Model Selection', options=['fine-tuning', 'feature-extraction'])\n",
    "\n",
    "run_button = widgets.Button(description=\"Run\", button_style='success')\n",
    "\n",
    "outputTitle = widgets.HTML(value=\"<h2>Output</h2>\")\n",
    "output = widgets.Output()\n",
    "output.layout = {\n",
    "    'border': '1px solid black',\n",
    "    'overflow_y': 'auto',  # Add a vertical scrollbar in case of overflow\n",
    "}\n",
    "\n",
    "# Display widgets\n",
    "display(dataset_widget, model_widget, model_selection_widget, run_button, outputTitle, output)\n",
    "\n",
    "run_button.on_click(on_run_button_clicked)\n",
    "\n"
   ]
  }
 ],
 "metadata": {
  "kernelspec": {
   "display_name": "base",
   "language": "python",
   "name": "python3"
  },
  "language_info": {
   "codemirror_mode": {
    "name": "ipython",
    "version": 3
   },
   "file_extension": ".py",
   "mimetype": "text/x-python",
   "name": "python",
   "nbconvert_exporter": "python",
   "pygments_lexer": "ipython3",
   "version": "3.12.2"
  }
 },
 "nbformat": 4,
 "nbformat_minor": 2
}
